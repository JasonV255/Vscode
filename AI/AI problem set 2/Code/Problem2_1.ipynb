{
 "cells": [
  {
   "cell_type": "code",
   "execution_count": 38,
   "metadata": {},
   "outputs": [],
   "source": [
    "import pandas as pd\n",
    "import numpy as np\n"
   ]
  },
  {
   "cell_type": "code",
   "execution_count": 39,
   "metadata": {},
   "outputs": [],
   "source": [
    "\n",
    "df = pd.read_csv('./lda.csv')\n",
    "df = df.to_numpy()\n",
    "X = df[:,1:3].astype(float)\n",
    "y = df[:,3]\n"
   ]
  },
  {
   "cell_type": "code",
   "execution_count": 40,
   "metadata": {},
   "outputs": [],
   "source": [
    "class LDA:\n",
    "    def __init__(self):\n",
    "        self.discriminant = None\n",
    "\n",
    "    def fit(self, X, y):\n",
    "\n",
    "        mean_vectors = []\n",
    "        for cl in np.unique(y):\n",
    "            mean_vectors.append(np.mean(X[y==cl], axis=0))\n",
    "\n",
    "        # Within-class scatter matrix\n",
    "        Sw = np.zeros((X.shape[1],X.shape[1]))\n",
    "        for cl, mv in zip(np.unique(y), mean_vectors):\n",
    "            class_sc_mat = np.zeros((X.shape[1],X.shape[1]))                 \n",
    "            for row in X[y == cl]:\n",
    "                row, mv = row.reshape(X.shape[1],1), mv.reshape(X.shape[1],1)\n",
    "                class_sc_mat += (row-mv).dot((row-mv).T)\n",
    "            Sw += class_sc_mat\n",
    "\n",
    "        # Between-class scatter matrix\n",
    "        overall_mean = np.mean(X, axis=0)\n",
    "        Sb = np.zeros((X.shape[1],X.shape[1]))\n",
    "        for i, mean_vec in enumerate(mean_vectors):  \n",
    "            n = X[y==i+1,:].shape[0]\n",
    "            mean_vec = mean_vec.reshape(X.shape[1],1)\n",
    "            overall_mean = overall_mean.reshape(X.shape[1],1)\n",
    "            Sb += n * (mean_vec - overall_mean).dot((mean_vec - overall_mean).T)\n",
    "\n",
    "        # Compute the Fisher Discriminant\n",
    "        self.discriminant = np.dot(np.linalg.inv(Sw), (mean_vectors[0]-mean_vectors[1]))\n",
    "\n",
    "    def transform(self):\n",
    "        # Normalize the Fisher Discriminant\n",
    "        return self.discriminant / np.linalg.norm(self.discriminant)"
   ]
  },
  {
   "cell_type": "code",
   "execution_count": 41,
   "metadata": {},
   "outputs": [],
   "source": [
    "model = LDA()\n",
    "model.fit(X, y)\n",
    "fisher_discriminant_norm = model.transform()"
   ]
  },
  {
   "cell_type": "code",
   "execution_count": 42,
   "metadata": {},
   "outputs": [
    {
     "name": "stdout",
     "output_type": "stream",
     "text": [
      "[-0.82065438  0.57142487]\n"
     ]
    }
   ],
   "source": [
    "print(model.transform())"
   ]
  }
 ],
 "metadata": {
  "kernelspec": {
   "display_name": "Python 3",
   "language": "python",
   "name": "python3"
  },
  "language_info": {
   "codemirror_mode": {
    "name": "ipython",
    "version": 3
   },
   "file_extension": ".py",
   "mimetype": "text/x-python",
   "name": "python",
   "nbconvert_exporter": "python",
   "pygments_lexer": "ipython3",
   "version": "3.11.1"
  }
 },
 "nbformat": 4,
 "nbformat_minor": 2
}
