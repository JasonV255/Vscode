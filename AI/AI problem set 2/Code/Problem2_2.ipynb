{
 "cells": [
  {
   "cell_type": "code",
   "execution_count": 18,
   "metadata": {},
   "outputs": [],
   "source": [
    "import pandas as pd\n",
    "import numpy as np\n"
   ]
  },
  {
   "cell_type": "code",
   "execution_count": 19,
   "metadata": {},
   "outputs": [
    {
     "data": {
      "text/html": [
       "<div>\n",
       "<style scoped>\n",
       "    .dataframe tbody tr th:only-of-type {\n",
       "        vertical-align: middle;\n",
       "    }\n",
       "\n",
       "    .dataframe tbody tr th {\n",
       "        vertical-align: top;\n",
       "    }\n",
       "\n",
       "    .dataframe thead th {\n",
       "        text-align: right;\n",
       "    }\n",
       "</style>\n",
       "<table border=\"1\" class=\"dataframe\">\n",
       "  <thead>\n",
       "    <tr style=\"text-align: right;\">\n",
       "      <th></th>\n",
       "      <th>Trial</th>\n",
       "      <th>Mean</th>\n",
       "      <th>Variance</th>\n",
       "      <th>Skewness</th>\n",
       "    </tr>\n",
       "  </thead>\n",
       "  <tbody>\n",
       "    <tr>\n",
       "      <th>count</th>\n",
       "      <td>12.000000</td>\n",
       "      <td>12.000000</td>\n",
       "      <td>12.000000</td>\n",
       "      <td>12.000000</td>\n",
       "    </tr>\n",
       "    <tr>\n",
       "      <th>mean</th>\n",
       "      <td>6.500000</td>\n",
       "      <td>0.535833</td>\n",
       "      <td>0.492500</td>\n",
       "      <td>0.382500</td>\n",
       "    </tr>\n",
       "    <tr>\n",
       "      <th>std</th>\n",
       "      <td>3.605551</td>\n",
       "      <td>0.200883</td>\n",
       "      <td>0.213121</td>\n",
       "      <td>0.127002</td>\n",
       "    </tr>\n",
       "    <tr>\n",
       "      <th>min</th>\n",
       "      <td>1.000000</td>\n",
       "      <td>0.240000</td>\n",
       "      <td>0.210000</td>\n",
       "      <td>0.110000</td>\n",
       "    </tr>\n",
       "    <tr>\n",
       "      <th>25%</th>\n",
       "      <td>3.750000</td>\n",
       "      <td>0.337500</td>\n",
       "      <td>0.392500</td>\n",
       "      <td>0.320000</td>\n",
       "    </tr>\n",
       "    <tr>\n",
       "      <th>50%</th>\n",
       "      <td>6.500000</td>\n",
       "      <td>0.555000</td>\n",
       "      <td>0.445000</td>\n",
       "      <td>0.420000</td>\n",
       "    </tr>\n",
       "    <tr>\n",
       "      <th>75%</th>\n",
       "      <td>9.250000</td>\n",
       "      <td>0.632500</td>\n",
       "      <td>0.542500</td>\n",
       "      <td>0.472500</td>\n",
       "    </tr>\n",
       "    <tr>\n",
       "      <th>max</th>\n",
       "      <td>12.000000</td>\n",
       "      <td>0.870000</td>\n",
       "      <td>0.920000</td>\n",
       "      <td>0.520000</td>\n",
       "    </tr>\n",
       "  </tbody>\n",
       "</table>\n",
       "</div>"
      ],
      "text/plain": [
       "           Trial       Mean   Variance   Skewness\n",
       "count  12.000000  12.000000  12.000000  12.000000\n",
       "mean    6.500000   0.535833   0.492500   0.382500\n",
       "std     3.605551   0.200883   0.213121   0.127002\n",
       "min     1.000000   0.240000   0.210000   0.110000\n",
       "25%     3.750000   0.337500   0.392500   0.320000\n",
       "50%     6.500000   0.555000   0.445000   0.420000\n",
       "75%     9.250000   0.632500   0.542500   0.472500\n",
       "max    12.000000   0.870000   0.920000   0.520000"
      ]
     },
     "execution_count": 19,
     "metadata": {},
     "output_type": "execute_result"
    }
   ],
   "source": [
    "data = pd.read_csv(\"./NaiveBayes.csv\")\n",
    "data.describe()"
   ]
  },
  {
   "cell_type": "code",
   "execution_count": 20,
   "metadata": {},
   "outputs": [],
   "source": [
    "features = data[[\"Mean\", \"Variance\", \"Skewness\"]]\n",
    "target = data[\"Activity\"]\n"
   ]
  },
  {
   "cell_type": "code",
   "execution_count": 21,
   "metadata": {},
   "outputs": [],
   "source": [
    "\n",
    "class_counts = target.value_counts()\n",
    "class_probs = class_counts / len(data)"
   ]
  },
  {
   "cell_type": "code",
   "execution_count": 22,
   "metadata": {},
   "outputs": [],
   "source": [
    "def mean_prob(feature_value, class_data, prior_prob):\n",
    "  class_mean = class_data[\"Mean\"].mean()\n",
    "  std_dev = class_data[\"Mean\"].std()\n",
    "  pdf = 1 / (std_dev * np.sqrt(2 * np.pi)) * np.exp(-(feature_value - class_mean)**2 / (2 * std_dev**2))\n",
    "  return pdf * prior_prob\n"
   ]
  },
  {
   "cell_type": "code",
   "execution_count": 23,
   "metadata": {},
   "outputs": [],
   "source": [
    "def variance_prob(feature_value, class_data, prior_prob):\n",
    "  class_variance = class_data[\"Variance\"].mean()\n",
    "  gamma = (class_variance + feature_value) / (2 * class_variance)\n",
    "  pdf = gamma**(class_variance - 1) * np.exp(-gamma)\n",
    "  return pdf * prior_prob"
   ]
  },
  {
   "cell_type": "code",
   "execution_count": 24,
   "metadata": {},
   "outputs": [],
   "source": [
    "def skewness_prob(feature_value, class_data, prior_prob):\n",
    "\n",
    "  min_skewness = class_data[\"Skewness\"].min()\n",
    "  max_skewness = class_data[\"Skewness\"].max()\n",
    "  if min_skewness <= feature_value <= max_skewness:\n",
    "    pdf = 1 / (max_skewness - min_skewness)\n",
    "  else:\n",
    "    pdf = 0\n",
    "  return pdf * prior_prob"
   ]
  },
  {
   "cell_type": "code",
   "execution_count": 25,
   "metadata": {},
   "outputs": [],
   "source": [
    "def predict(mean, variance, skewness):\n",
    "  feature_probs = {\n",
    "    \"RMI\": mean_prob(mean, data[target == \"RMI\"], class_probs[\"RMI\"]),\n",
    "    \"MA\": mean_prob(mean, data[target == \"MA\"], class_probs[\"MA\"]),\n",
    "    \"Rest\": mean_prob(mean, data[target == \"Rest\"], class_probs[\"Rest\"]),\n",
    "    \"LMI\": mean_prob(mean, data[target == \"LMI\"], class_probs[\"LMI\"]),\n",
    "  }\n",
    "  feature_probs[\"MA\"] *= variance_prob(variance, data[target == \"MA\"], class_probs[\"MA\"])\n",
    "  feature_probs[\"Rest\"] *= variance_prob(variance, data[target == \"Rest\"], class_probs[\"Rest\"])\n",
    "  \n",
    "  feature_probs[\"RMI\"] *= skewness_prob(skewness, data[target == \"RMI\"], class_probs[\"RMI\"])\n",
    "  feature_probs[\"LMI\"] *= skewness_prob(skewness, data[target == \"LMI\"], class_probs[\"LMI\"])\n",
    "\n",
    "  highest_prob = max(feature_probs.values())\n",
    "  predicted_activity = max(feature_probs, key=feature_probs.get)\n",
    "\n",
    "  return predicted_activity"
   ]
  },
  {
   "cell_type": "code",
   "execution_count": 27,
   "metadata": {},
   "outputs": [
    {
     "name": "stdout",
     "output_type": "stream",
     "text": [
      "Test case 1: MA\n",
      "Test case 2: LMI\n"
     ]
    }
   ],
   "source": [
    "test_case_1 = [0.43, 0.44, 0.61]\n",
    "test_case_2 = [0.45, 0.32, 0.32]\n",
    "\n",
    "print(f\"Test case 1: {predict(*test_case_1)}\")\n",
    "print(f\"Test case 2: {predict(*test_case_2)}\")\n"
   ]
  }
 ],
 "metadata": {
  "kernelspec": {
   "display_name": "Python 3",
   "language": "python",
   "name": "python3"
  },
  "language_info": {
   "codemirror_mode": {
    "name": "ipython",
    "version": 3
   },
   "file_extension": ".py",
   "mimetype": "text/x-python",
   "name": "python",
   "nbconvert_exporter": "python",
   "pygments_lexer": "ipython3",
   "version": "3.11.1"
  }
 },
 "nbformat": 4,
 "nbformat_minor": 2
}
