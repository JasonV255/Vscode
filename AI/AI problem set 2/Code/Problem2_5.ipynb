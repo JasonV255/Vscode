{
 "cells": [
  {
   "cell_type": "code",
   "execution_count": 4,
   "metadata": {},
   "outputs": [],
   "source": [
    "import pandas as pd \n",
    "import matplotlib.pyplot as plt\n",
    "import numpy as np\n",
    "from sklearn.naive_bayes import GaussianNB"
   ]
  },
  {
   "cell_type": "code",
   "execution_count": 5,
   "metadata": {},
   "outputs": [
    {
     "name": "stdout",
     "output_type": "stream",
     "text": [
      "[[0.06735198 0.93264802]]\n",
      "Positive for heart disease: ['Yes']\n"
     ]
    }
   ],
   "source": [
    "df = pd.read_csv('.\\heart_data.csv', nrows=11) \n",
    "df = df.to_numpy()\n",
    "X = df[:,1:5]\n",
    "y = df[:,5]\n",
    "model = GaussianNB()\n",
    "model.fit(X, y)\n",
    "Test = [[25, 90, 135, 26]]\n",
    "predprob = model.predict_proba(Test)\n",
    "pred = model.predict(Test)\n",
    "print(predprob) \n",
    "print(\"Positive for heart disease:\",pred)"
   ]
  }
 ],
 "metadata": {
  "kernelspec": {
   "display_name": "Python 3",
   "language": "python",
   "name": "python3"
  },
  "language_info": {
   "codemirror_mode": {
    "name": "ipython",
    "version": 3
   },
   "file_extension": ".py",
   "mimetype": "text/x-python",
   "name": "python",
   "nbconvert_exporter": "python",
   "pygments_lexer": "ipython3",
   "version": "3.11.1"
  }
 },
 "nbformat": 4,
 "nbformat_minor": 2
}
