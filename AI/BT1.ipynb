{
 "cells": [
  {
   "cell_type": "code",
   "execution_count": 1,
   "metadata": {},
   "outputs": [
    {
     "name": "stdout",
     "output_type": "stream",
     "text": [
      "factorial of  5  is  120\n"
     ]
    }
   ],
   "source": [
    "#Factorial 'for' loop\n",
    "num = int(input(\"enter a number: \"))\n",
    " \n",
    "fac = 1\n",
    " \n",
    "for i in range(1, num + 1):\n",
    "    fac = fac * i\n",
    " \n",
    "print(\"factorial of \", num, \" is \", fac)"
   ]
  },
  {
   "cell_type": "code",
   "execution_count": 10,
   "metadata": {},
   "outputs": [
    {
     "name": "stdout",
     "output_type": "stream",
     "text": [
      "factorial of  20  is  2432902008176640000\n"
     ]
    }
   ],
   "source": [
    "#Factorial 'while' loop\n",
    "num = int(input(\"enter a number: \"))\n",
    " \n",
    "fac = 1\n",
    "i = 1\n",
    " \n",
    "while i <= num:\n",
    "    fac = fac * i\n",
    "    i = i + 1\n",
    " \n",
    "print(\"factorial of \", num, \" is \", fac)"
   ]
  },
  {
   "cell_type": "code",
   "execution_count": 8,
   "metadata": {},
   "outputs": [
    {
     "name": "stdout",
     "output_type": "stream",
     "text": [
      "factorial of 20 is 2432902008176640000\n"
     ]
    }
   ],
   "source": [
    "#factorial recusion\n",
    "def factorial(x):\n",
    "    if x == 1:\n",
    "        return 1\n",
    "    else:\n",
    "        return (x * factorial(x-1))\n",
    "\n",
    "\n",
    "num = int(input(\"enter a number: \"))\n",
    "print(\"factorial of\", num, \"is\", factorial(num))"
   ]
  },
  {
   "cell_type": "code",
   "execution_count": 2,
   "metadata": {},
   "outputs": [
    {
     "name": "stdout",
     "output_type": "stream",
     "text": [
      "1 1 2 3 5 8 13 21 "
     ]
    }
   ],
   "source": [
    "#fibonacci recursion\n",
    "def fibo(n):\n",
    "   if n <= 1:\n",
    "       return n\n",
    "   else:\n",
    "       return(fibo(n-1) + fibo(n-2))\n",
    "num = int((input(\"enter a positive number: \")))\n",
    "for i in range(1, num+1):\n",
    "    print(fibo(i), end = ' ')"
   ]
  }
 ],
 "metadata": {
  "kernelspec": {
   "display_name": "Python 3",
   "language": "python",
   "name": "python3"
  },
  "language_info": {
   "codemirror_mode": {
    "name": "ipython",
    "version": 3
   },
   "file_extension": ".py",
   "mimetype": "text/x-python",
   "name": "python",
   "nbconvert_exporter": "python",
   "pygments_lexer": "ipython3",
   "version": "3.11.1"
  },
  "orig_nbformat": 4
 },
 "nbformat": 4,
 "nbformat_minor": 2
}
