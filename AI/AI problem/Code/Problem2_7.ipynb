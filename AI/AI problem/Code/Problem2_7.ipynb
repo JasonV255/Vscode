{
 "cells": [
  {
   "cell_type": "code",
   "execution_count": 10,
   "metadata": {},
   "outputs": [
    {
     "name": "stdout",
     "output_type": "stream",
     "text": [
      "[[255 255 255   0  97  72]\n",
      " [255   0   0 120   0   0]\n",
      " [255   0 255   0 255 255]\n",
      " [  0 255  12   0   0 255]\n",
      " [  0 255 255   0 255   0]\n",
      " [224   0   0 255   0 255]]\n"
     ]
    }
   ],
   "source": [
    "#1\n",
    "import numpy as np\n",
    "from scipy.signal import convolve2d\n",
    "\n",
    "img = np.array([\n",
    "    [202, 225, 168, 23, 37, 33],\n",
    "    [251, 114, 63, 66, 32, 56],\n",
    "    [201, 40, 245, 92, 213, 216],\n",
    "    [70, 230, 132, 2, 44, 146],\n",
    "    [8, 218, 171, 10, 193, 48],\n",
    "    [53, 33, 30, 247, 53, 79]\n",
    "])  \n",
    "\n",
    "kernel = np.array([\n",
    "    [0, -1, 0],\n",
    "    [-1, 5, -1],\n",
    "    [0, -1, 0]\n",
    "])\n",
    "\n",
    "result = convolve2d(img, kernel, mode='same')\n",
    "result = np.clip(result, 0, 255)\n",
    "print(result)\n"
   ]
  },
  {
   "cell_type": "code",
   "execution_count": 15,
   "metadata": {},
   "outputs": [
    {
     "name": "stdout",
     "output_type": "stream",
     "text": [
      "[[255. 255.  97.]\n",
      " [255. 255. 255.]\n",
      " [255. 255. 255.]]\n"
     ]
    }
   ],
   "source": [
    "#2a\n",
    "pool_size = (2, 2)\n",
    "stride = 2\n",
    "\n",
    "MaxPool = np.zeros((result.shape[0] // stride, result.shape[1] // stride))\n",
    "\n",
    "for i in range(0, result.shape[0] - pool_size[0] + 1, stride):\n",
    "    for j in range(0, result.shape[1] - pool_size[1] + 1, stride):\n",
    "        MaxPool[i // stride, j // stride] = np.max(result[i:i + pool_size[0], j:j + pool_size[1]])\n",
    "\n",
    "print(MaxPool)"
   ]
  },
  {
   "cell_type": "code",
   "execution_count": 16,
   "metadata": {},
   "outputs": [
    {
     "name": "stdout",
     "output_type": "stream",
     "text": [
      "[[191.  93.  42.]\n",
      " [127.  66. 191.]\n",
      " [119. 127. 127.]]\n"
     ]
    }
   ],
   "source": [
    "#2b\n",
    "\n",
    "pool_size = (2, 2)\n",
    "stride = 2\n",
    "\n",
    "AvgPool = np.zeros((result.shape[0] // stride, result.shape[1] // stride))\n",
    "\n",
    "for i in range(0, result.shape[0] - pool_size[0] + 1, stride):\n",
    "    for j in range(0, result.shape[1] - pool_size[1] + 1, stride):\n",
    "        AvgPool[i // stride, j // stride] = np.mean(result[i:i + pool_size[0], j:j + pool_size[1]]).astype(np.uint8)\n",
    "\n",
    "print(AvgPool)"
   ]
  }
 ],
 "metadata": {
  "kernelspec": {
   "display_name": "Python 3",
   "language": "python",
   "name": "python3"
  },
  "language_info": {
   "codemirror_mode": {
    "name": "ipython",
    "version": 3
   },
   "file_extension": ".py",
   "mimetype": "text/x-python",
   "name": "python",
   "nbconvert_exporter": "python",
   "pygments_lexer": "ipython3",
   "version": "3.11.1"
  }
 },
 "nbformat": 4,
 "nbformat_minor": 2
}
