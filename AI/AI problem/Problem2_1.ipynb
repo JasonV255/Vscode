{
 "cells": [
  {
   "cell_type": "code",
   "execution_count": 19,
   "metadata": {},
   "outputs": [
    {
     "name": "stdout",
     "output_type": "stream",
     "text": [
      "[[ 0.82065438 -0.57142487]]\n"
     ]
    }
   ],
   "source": [
    "import pandas as pd \n",
    "import matplotlib.pyplot as plt\n",
    "import numpy as np\n",
    "from sklearn.discriminant_analysis import LinearDiscriminantAnalysis \n",
    "\n",
    "ds_1 = pd.read_csv('./lda.csv') \n",
    "ds_1 = ds_1.to_numpy()\n",
    "X = ds_1[:,1:3]\n",
    "y = ds_1[:,3]\n",
    "model_1 = LinearDiscriminantAnalysis()\n",
    "model_1.fit(X, y)\n",
    "print(model_1.coef_/np.linalg.norm(model_1.coef_))"
   ]
  }
 ],
 "metadata": {
  "kernelspec": {
   "display_name": "Python 3",
   "language": "python",
   "name": "python3"
  },
  "language_info": {
   "codemirror_mode": {
    "name": "ipython",
    "version": 3
   },
   "file_extension": ".py",
   "mimetype": "text/x-python",
   "name": "python",
   "nbconvert_exporter": "python",
   "pygments_lexer": "ipython3",
   "version": "3.11.1"
  }
 },
 "nbformat": 4,
 "nbformat_minor": 2
}
