{
 "cells": [
  {
   "cell_type": "code",
   "execution_count": 3,
   "metadata": {},
   "outputs": [],
   "source": [
    "import pandas as pd\n",
    "import numpy as np\n",
    "import matplotlib.pyplot as plt\n"
   ]
  },
  {
   "cell_type": "code",
   "execution_count": 5,
   "metadata": {},
   "outputs": [
    {
     "name": "stdout",
     "output_type": "stream",
     "text": [
      "     sepal.length  sepal.width  petal.length  petal.width    variety\n",
      "0             5.1          3.5           1.4          0.2     Setosa\n",
      "1             4.9          3.0           1.4          0.2     Setosa\n",
      "2             4.7          3.2           1.3          0.2     Setosa\n",
      "3             4.6          3.1           1.5          0.2     Setosa\n",
      "4             5.0          3.6           1.4          0.2     Setosa\n",
      "..            ...          ...           ...          ...        ...\n",
      "145           6.7          3.0           5.2          2.3  Virginica\n",
      "146           6.3          2.5           5.0          1.9  Virginica\n",
      "147           6.5          3.0           5.2          2.0  Virginica\n",
      "148           6.2          3.4           5.4          2.3  Virginica\n",
      "149           5.9          3.0           5.1          1.8  Virginica\n",
      "\n",
      "[150 rows x 5 columns]\n"
     ]
    }
   ],
   "source": [
    "df = pd.read_csv('./Data/iris.csv')\n",
    "df = df.dropna()\n",
    "print(df)\n"
   ]
  },
  {
   "cell_type": "markdown",
   "metadata": {},
   "source": [
    "Calculate Gini index"
   ]
  },
  {
   "cell_type": "code",
   "execution_count": 22,
   "metadata": {},
   "outputs": [],
   "source": [
    "def gini_index (y):\n",
    "    n= y.sum()\n",
    "    p_sum = 0\n",
    "    for key in y.keys():\n",
    "        p_sum = p_sum  +  (y[key] / n ) * (y[key] / n ) \n",
    "    gini = 1 - p_sum\n",
    "    return gini"
   ]
  },
  {
   "cell_type": "markdown",
   "metadata": {},
   "source": [
    "Gini for Root (variety)"
   ]
  },
  {
   "cell_type": "code",
   "execution_count": 26,
   "metadata": {},
   "outputs": [
    {
     "name": "stdout",
     "output_type": "stream",
     "text": [
      "Number of samples in each class is:\n",
      "Setosa        50\n",
      "Versicolor    50\n",
      "Virginica     50\n",
      "Name: variety, dtype: int64\n",
      "\n",
      "Gini Impurity of the class is 0.667\n"
     ]
    }
   ],
   "source": [
    "class_value_counts = df['variety'].value_counts()\n",
    "print(f'Number of samples in each class is:\\n{class_value_counts}')\n",
    "\n",
    "gini_class = gini_index(class_value_counts)\n",
    "print(f'\\nGini Impurity of the class is {gini_class:.3f}')"
   ]
  },
  {
   "cell_type": "markdown",
   "metadata": {},
   "source": [
    "Calculate gini for features"
   ]
  },
  {
   "cell_type": "code",
   "execution_count": 27,
   "metadata": {},
   "outputs": [],
   "source": [
    "def gini_split(feat_name):\n",
    "    feat_values= df[feat_name].value_counts()\n",
    "    gini_A=0\n",
    "    for key in feat_values.keys():\n",
    "        df_k = df['variety'][df[feat_name]==key].value_counts()\n",
    "        n_k = feat_values[key]\n",
    "        n = df.shape[0]\n",
    "        gini_A = gini_A + ((n_k/n)*gini_index(df_k))\n",
    "    return gini_A"
   ]
  },
  {
   "cell_type": "code",
   "execution_count": 29,
   "metadata": {},
   "outputs": [
    {
     "name": "stdout",
     "output_type": "stream",
     "text": [
      "Gini for sepal.length is 0.319\n",
      "Gini for sepal.width is 0.468\n",
      "Gini for petal.length is 0.063\n",
      "Gini for petal.width is 0.063\n"
     ]
    }
   ],
   "source": [
    "gini_feature = {}\n",
    "feat_names =  [\"sepal.length\",\"sepal.width\",\"petal.length\",\"petal.width\"]\n",
    "for key in feat_names:\n",
    "    gini_feature[key] = gini_split(key)\n",
    "    print(f'Gini for {key} is {gini_feature[key]:.3f}')"
   ]
  },
  {
   "cell_type": "markdown",
   "metadata": {},
   "source": [
    "Compute Gini gain values to find the best split\n",
    "An attribute has maximum Gini gain is selected for splitting."
   ]
  },
  {
   "cell_type": "code",
   "execution_count": 32,
   "metadata": {},
   "outputs": [
    {
     "name": "stdout",
     "output_type": "stream",
     "text": [
      "The minimum value of Gini Impurity : 0.0627 \n",
      "The maximum value of Gini Gain     : 0.937 \n",
      "The selected attiribute is:  petal.length\n"
     ]
    }
   ],
   "source": [
    "min_value = min(gini_feature.values())\n",
    "print('The minimum value of Gini Impurity : {0:.3} '.format(min_value))\n",
    "print('The maximum value of Gini Gain     : {0:.3} '.format(1-min_value))\n",
    "selected_attribute = min(gini_feature.keys())\n",
    "print('The selected attiribute is: ', selected_attribute)"
   ]
  }
 ],
 "metadata": {
  "kernelspec": {
   "display_name": "Python 3",
   "language": "python",
   "name": "python3"
  },
  "language_info": {
   "codemirror_mode": {
    "name": "ipython",
    "version": 3
   },
   "file_extension": ".py",
   "mimetype": "text/x-python",
   "name": "python",
   "nbconvert_exporter": "python",
   "pygments_lexer": "ipython3",
   "version": "3.11.1"
  }
 },
 "nbformat": 4,
 "nbformat_minor": 2
}
