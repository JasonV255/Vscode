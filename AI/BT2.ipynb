{
 "cells": [
  {
   "cell_type": "code",
   "execution_count": 1,
   "metadata": {},
   "outputs": [
    {
     "name": "stdout",
     "output_type": "stream",
     "text": [
      "The root was found to be at 1.4142135623730951 after 10 iteration\n"
     ]
    }
   ],
   "source": [
    "def newton(func, funcderiv, x, n):\n",
    "\n",
    "    def f(x):\n",
    "        f =eval(func)\n",
    "        return f\n",
    "    \n",
    "    def df(x):\n",
    "        df = eval(funcderiv)\n",
    "        return df\n",
    "    for itercept in range(1,n):\n",
    "        i = x - (f(x)/df(x))\n",
    "        x = i\n",
    "    print(f\"The root was found to be at {x} after {n} iteration\")\n",
    "    \n",
    "\n",
    "newton(\"x**2 -2\", \"2*x\", 2, 10)\n"
   ]
  }
 ],
 "metadata": {
  "kernelspec": {
   "display_name": "Python 3",
   "language": "python",
   "name": "python3"
  },
  "language_info": {
   "codemirror_mode": {
    "name": "ipython",
    "version": 3
   },
   "file_extension": ".py",
   "mimetype": "text/x-python",
   "name": "python",
   "nbconvert_exporter": "python",
   "pygments_lexer": "ipython3",
   "version": "3.11.1"
  },
  "orig_nbformat": 4
 },
 "nbformat": 4,
 "nbformat_minor": 2
}
