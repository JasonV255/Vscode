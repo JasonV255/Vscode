{
 "cells": [
  {
   "cell_type": "code",
   "execution_count": null,
   "metadata": {},
   "outputs": [],
   "source": [
    "def newton(func, funcderiv, x, n):\n",
    "\n",
    "    def f(x):\n",
    "        f =eval(func)\n",
    "        return f\n",
    "    \n",
    "    def df(x):\n",
    "        df = eval(funcderiv)\n",
    "        return df\n",
    "    \n",
    "\n",
    "for itercept in range(1,n):\n",
    "    i = x - (f(x)/df(x))\n",
    "    x = i\n",
    "print(f\"The root was found to be at {x} after {n} iteration\")\n",
    "\n",
    "newton(\"x**2 -2\", \"2*x\", 2, 10)\n"
   ]
  }
 ],
 "metadata": {
  "language_info": {
   "name": "python"
  },
  "orig_nbformat": 4
 },
 "nbformat": 4,
 "nbformat_minor": 2
}
