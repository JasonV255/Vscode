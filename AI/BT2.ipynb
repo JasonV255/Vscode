{
 "cells": [
  {
   "cell_type": "code",
   "execution_count": 5,
   "metadata": {},
   "outputs": [
    {
     "name": "stdout",
     "output_type": "stream",
     "text": [
      "The root was found to be at 1.4931156800934644\n"
     ]
    }
   ],
   "source": [
    "def newton(func, funcderiv, x):\n",
    "    def f(x):\n",
    "        f = eval(func)\n",
    "        return f\n",
    "    def df(x):\n",
    "        df = eval(funcderiv)\n",
    "        return df\n",
    "    for i in range(1, 1000):\n",
    "         i = x - (f(x)/df(x))\n",
    "         x = i\n",
    "    print(f\"The root was found to be at {x}\")\n",
    "\n",
    "\n",
    "newton(\"3*x**3 - 2*x -7\", \"9*x**2 -2\", 0)"
   ]
  }
 ],
 "metadata": {
  "kernelspec": {
   "display_name": "Python 3",
   "language": "python",
   "name": "python3"
  },
  "language_info": {
   "codemirror_mode": {
    "name": "ipython",
    "version": 3
   },
   "file_extension": ".py",
   "mimetype": "text/x-python",
   "name": "python",
   "nbconvert_exporter": "python",
   "pygments_lexer": "ipython3",
   "version": "3.11.1"
  },
  "orig_nbformat": 4
 },
 "nbformat": 4,
 "nbformat_minor": 2
}
